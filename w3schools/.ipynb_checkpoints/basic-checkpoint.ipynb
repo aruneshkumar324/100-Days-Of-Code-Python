{
 "cells": [
  {
   "cell_type": "code",
   "execution_count": 4,
   "id": "04a58a67-d32f-41aa-8c24-10014ad1f099",
   "metadata": {},
   "outputs": [],
   "source": [
    "with open('new_file.txt', 'w') as file:\n",
    "    file.write('hello')"
   ]
  },
  {
   "cell_type": "code",
   "execution_count": null,
   "id": "6aed3bdf-1609-4d88-bbff-e4f3bc31bb7c",
   "metadata": {},
   "outputs": [],
   "source": []
  }
 ],
 "metadata": {
  "kernelspec": {
   "display_name": "Python 3 (ipykernel)",
   "language": "python",
   "name": "python3"
  },
  "language_info": {
   "codemirror_mode": {
    "name": "ipython",
    "version": 3
   },
   "file_extension": ".py",
   "mimetype": "text/x-python",
   "name": "python",
   "nbconvert_exporter": "python",
   "pygments_lexer": "ipython3",
   "version": "3.9.7"
  }
 },
 "nbformat": 4,
 "nbformat_minor": 5
}
