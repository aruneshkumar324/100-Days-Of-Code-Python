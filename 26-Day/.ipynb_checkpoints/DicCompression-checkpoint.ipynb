{
 "cells": [
  {
   "cell_type": "code",
   "execution_count": 1,
   "id": "b478fe7b-90f9-47b8-8bb3-a663e73b8d0d",
   "metadata": {},
   "outputs": [],
   "source": [
    "import random"
   ]
  },
  {
   "cell_type": "code",
   "execution_count": 2,
   "id": "da9a820a-2a49-48dd-912b-6d06e00e177c",
   "metadata": {},
   "outputs": [],
   "source": [
    "names = ['Arunesh', 'Rohan', 'Raj', 'Mohan', 'Sohan']"
   ]
  },
  {
   "cell_type": "code",
   "execution_count": 35,
   "id": "d75b4b52-a6f0-4c32-9128-cfad15028927",
   "metadata": {},
   "outputs": [
    {
     "data": {
      "text/plain": [
       "{'Arunesh': 38, 'Rohan': 38, 'Raj': 100, 'Mohan': 59, 'Sohan': 61}"
      ]
     },
     "execution_count": 35,
     "metadata": {},
     "output_type": "execute_result"
    }
   ],
   "source": [
    "student_score = {student:random.randint(1, 100) for student in names}\n",
    "student_score"
   ]
  },
  {
   "cell_type": "code",
   "execution_count": 36,
   "id": "dcb935f1-2745-4b81-9f42-3deb153ba8c0",
   "metadata": {},
   "outputs": [
    {
     "data": {
      "text/plain": [
       "{'Raj': 100, 'Sohan': 61}"
      ]
     },
     "execution_count": 36,
     "metadata": {},
     "output_type": "execute_result"
    }
   ],
   "source": [
    "passed_students = { student : marks for (student, marks) in student_score.items() if marks >= 60 }\n",
    "passed_students"
   ]
  },
  {
   "cell_type": "code",
   "execution_count": 37,
   "id": "001cce3f-669d-4c9f-aba2-311eeefa4d1c",
   "metadata": {},
   "outputs": [
    {
     "data": {
      "text/plain": [
       "{'Arunesh': 38, 'Rohan': 38, 'Raj': 100, 'Mohan': 59, 'Sohan': 61}"
      ]
     },
     "execution_count": 37,
     "metadata": {},
     "output_type": "execute_result"
    }
   ],
   "source": [
    "student_score"
   ]
  },
  {
   "cell_type": "code",
   "execution_count": 38,
   "id": "0af9b82d-df75-4867-8e5d-da55834fc42f",
   "metadata": {},
   "outputs": [
    {
     "data": {
      "text/plain": [
       "{'Raj': 100, 'Sohan': 61}"
      ]
     },
     "execution_count": 38,
     "metadata": {},
     "output_type": "execute_result"
    }
   ],
   "source": [
    "passed_students"
   ]
  },
  {
   "cell_type": "markdown",
   "id": "1012b56c-30c2-468f-9211-fc6785320a91",
   "metadata": {},
   "source": [
    "# 4-EXERCISE"
   ]
  },
  {
   "cell_type": "code",
   "execution_count": 40,
   "id": "a5bd55b2-6b83-4a47-a96b-8542aa731ef7",
   "metadata": {},
   "outputs": [
    {
     "name": "stdout",
     "output_type": "stream",
     "text": [
      "{'What': 4, 'is': 2, 'the': 3, 'Airspeed': 8, 'Velocity': 8, 'of': 2, 'an': 2, 'Unladen': 7, 'Swallow?': 8}\n"
     ]
    }
   ],
   "source": [
    "sentence = \"What is the Airspeed Velocity of an Unladen Swallow?\"\n",
    "sentence_data = sentence.split()\n",
    "result = {word: len(word) for word in sentence_data}\n",
    "print(result)"
   ]
  },
  {
   "cell_type": "markdown",
   "id": "4e9ae59c-2037-479f-8b03-99b0fedb1bca",
   "metadata": {},
   "source": [
    "# 5-EXERCISE"
   ]
  },
  {
   "cell_type": "code",
   "execution_count": 41,
   "id": "1f9fe672-ba9c-4d4c-8b91-07ffdbb841b4",
   "metadata": {},
   "outputs": [
    {
     "name": "stdout",
     "output_type": "stream",
     "text": [
      "{'Monday': 53.6, 'Tuesday': 57.2, 'Wednesday': 59.0, 'Thursday': 57.2, 'Friday': 69.8, 'Saturday': 71.6, 'Sunday': 75.2}\n"
     ]
    }
   ],
   "source": [
    "weather_c = {\n",
    "    \"Monday\": 12,\n",
    "    \"Tuesday\": 14,\n",
    "    \"Wednesday\": 15,\n",
    "    \"Thursday\": 14,\n",
    "    \"Friday\": 21,\n",
    "    \"Saturday\": 22,\n",
    "    \"Sunday\": 24,\n",
    "}\n",
    "\n",
    "weather_f = {day: (temp*9/5)+32 for (day, temp) in weather_c.items()}\n",
    "\n",
    "\n",
    "print(weather_f)\n"
   ]
  },
  {
   "cell_type": "code",
   "execution_count": null,
   "id": "11c9402d-17bd-4c9f-aa79-cbb5b84c727e",
   "metadata": {},
   "outputs": [],
   "source": []
  }
 ],
 "metadata": {
  "kernelspec": {
   "display_name": "Python 3 (ipykernel)",
   "language": "python",
   "name": "python3"
  },
  "language_info": {
   "codemirror_mode": {
    "name": "ipython",
    "version": 3
   },
   "file_extension": ".py",
   "mimetype": "text/x-python",
   "name": "python",
   "nbconvert_exporter": "python",
   "pygments_lexer": "ipython3",
   "version": "3.9.7"
  }
 },
 "nbformat": 4,
 "nbformat_minor": 5
}
