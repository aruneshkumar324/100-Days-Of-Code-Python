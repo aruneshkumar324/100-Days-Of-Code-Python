{
 "cells": [
  {
   "cell_type": "markdown",
   "id": "028972d2-c91e-4204-b815-10c68c3af593",
   "metadata": {},
   "source": [
    "<img src=\"https://i.imgur.com/49FNOHj.jpg\">"
   ]
  },
  {
   "cell_type": "markdown",
   "id": "f476e496-94e5-45ed-80bd-e0114f8ce34b",
   "metadata": {},
   "source": [
    "<h1 style='font-size:50px;color:green;'>Hello Arunesh</h1>"
   ]
  },
  {
   "cell_type": "markdown",
   "id": "a80ac6f8-ba67-408e-b5c4-ea730e58fc4c",
   "metadata": {},
   "source": [
    "<img src=\"assets/bricks.jpg\">"
   ]
  },
  {
   "cell_type": "code",
   "execution_count": null,
   "id": "34218e46-0b81-4d97-920d-4a7c41f53b76",
   "metadata": {},
   "outputs": [],
   "source": []
  }
 ],
 "metadata": {
  "kernelspec": {
   "display_name": "Python 3 (ipykernel)",
   "language": "python",
   "name": "python3"
  },
  "language_info": {
   "codemirror_mode": {
    "name": "ipython",
    "version": 3
   },
   "file_extension": ".py",
   "mimetype": "text/x-python",
   "name": "python",
   "nbconvert_exporter": "python",
   "pygments_lexer": "ipython3",
   "version": "3.9.7"
  }
 },
 "nbformat": 4,
 "nbformat_minor": 5
}
