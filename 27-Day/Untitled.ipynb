{
 "cells": [
  {
   "cell_type": "code",
   "execution_count": 2,
   "id": "9509ce07-e90d-4a92-ace5-f5ee3f3d8864",
   "metadata": {},
   "outputs": [
    {
     "name": "stdout",
     "output_type": "stream",
     "text": [
      "Username\n",
      "You can write long character string here...\n",
      "\n"
     ]
    }
   ],
   "source": [
    "from tkinter import *\n",
    "\n",
    "\n",
    "window = Tk()\n",
    "window.title('Widget Examples')\n",
    "window.minsize(width=500, height=500)\n",
    "\n",
    "\n",
    "# LABELS\n",
    "label = Label(text='Old Text', font=('Arial', 12, 'bold'))\n",
    "label.config(text='New Label Text')\n",
    "label.pack()\n",
    "\n",
    "\n",
    "# BUTTON\n",
    "def clickMe():\n",
    "    print('Hello Arunesh')\n",
    "button = Button(text='Click Me', command=clickMe)\n",
    "button.pack()\n",
    "\n",
    "\n",
    "# ENTRY\n",
    "entry = Entry(width=20)\n",
    "entry.insert(END, string='Username')\n",
    "print(entry.get())\n",
    "entry.pack()\n",
    "\n",
    "\n",
    "# TEXT\n",
    "text = Text(width=20, height=5)\n",
    "text.insert(END, 'You can write long character string here...')\n",
    "print(text.get('1.0', END))\n",
    "text.pack()\n",
    "\n",
    "\n",
    "# SPINBOX\n",
    "def spinbox_fun():\n",
    "    print(spinbox.get())\n",
    "spinbox = Spinbox(from_=0, to=10, command=spinbox_fun)\n",
    "spinbox.pack()\n",
    "\n",
    "\n",
    "# SCALE\n",
    "def scale_fun(value):\n",
    "    print(value)\n",
    "scale = Scale(from_=0, to=100, command=scale_fun)\n",
    "scale.pack()\n",
    "\n",
    "\n",
    "\n",
    "\n",
    "\n",
    "\n",
    "window.mainloop()\n"
   ]
  },
  {
   "cell_type": "code",
   "execution_count": null,
   "id": "34aad219-091e-4d66-b619-3f12b85bba90",
   "metadata": {},
   "outputs": [],
   "source": []
  }
 ],
 "metadata": {
  "kernelspec": {
   "display_name": "Python 3 (ipykernel)",
   "language": "python",
   "name": "python3"
  },
  "language_info": {
   "codemirror_mode": {
    "name": "ipython",
    "version": 3
   },
   "file_extension": ".py",
   "mimetype": "text/x-python",
   "name": "python",
   "nbconvert_exporter": "python",
   "pygments_lexer": "ipython3",
   "version": "3.9.7"
  }
 },
 "nbformat": 4,
 "nbformat_minor": 5
}
