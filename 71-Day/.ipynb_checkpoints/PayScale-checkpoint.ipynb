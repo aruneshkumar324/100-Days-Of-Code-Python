{
 "cells": [
  {
   "cell_type": "code",
   "execution_count": 1,
   "id": "8b3487bb-b61d-4700-ba6c-33e3d22dd646",
   "metadata": {},
   "outputs": [],
   "source": [
    "import pandas as pd"
   ]
  },
  {
   "cell_type": "code",
   "execution_count": 2,
   "id": "7d75bd3a-c984-4531-bdba-301f60a63438",
   "metadata": {},
   "outputs": [],
   "source": [
    "df = pd.read_html('https://www.payscale.com/college-salary-report/majors-that-pay-you-back/bachelors')"
   ]
  },
  {
   "cell_type": "code",
   "execution_count": 13,
   "id": "4b639531-3af4-4641-a33f-13dfcaa16f73",
   "metadata": {},
   "outputs": [],
   "source": [
    "len(df)\n",
    "\n",
    "new_df = df[0].copy()\n",
    "\n",
    "new_df.columns = [\"Rank\", \"Major\", \"Type\", \"EarlyCareerPay\", \"MidCareerPay\", \"HighMeaning\"]"
   ]
  },
  {
   "cell_type": "markdown",
   "id": "9b6447ff-a0fa-436d-b13b-cce97afe1433",
   "metadata": {},
   "source": [
    "# i must solve EXTRA CREDIT proble\n",
    "\n",
    "# https://www.udemy.com/course/100-days-of-code/learn/lecture/22375208#questions/13628312"
   ]
  },
  {
   "cell_type": "code",
   "execution_count": null,
   "id": "6a66ca02-b1e1-4e31-8bdb-eb8fa28262e9",
   "metadata": {},
   "outputs": [],
   "source": []
  }
 ],
 "metadata": {
  "kernelspec": {
   "display_name": "Python 3 (ipykernel)",
   "language": "python",
   "name": "python3"
  },
  "language_info": {
   "codemirror_mode": {
    "name": "ipython",
    "version": 3
   },
   "file_extension": ".py",
   "mimetype": "text/x-python",
   "name": "python",
   "nbconvert_exporter": "python",
   "pygments_lexer": "ipython3",
   "version": "3.9.7"
  }
 },
 "nbformat": 4,
 "nbformat_minor": 5
}
