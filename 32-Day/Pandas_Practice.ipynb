{
 "cells": [
  {
   "cell_type": "code",
   "execution_count": 2,
   "id": "2a7c644a-a640-45ec-a244-3f858d92fe87",
   "metadata": {},
   "outputs": [],
   "source": [
    "import pandas as pd"
   ]
  },
  {
   "cell_type": "code",
   "execution_count": 3,
   "id": "aa9f3946-ea19-4be6-9c18-6468b3caaeab",
   "metadata": {},
   "outputs": [],
   "source": [
    "data = pd.read_csv(\"birthday-wisher/birthdays.csv\")"
   ]
  },
  {
   "cell_type": "code",
   "execution_count": 4,
   "id": "36d9c39e-e4a0-449a-bb26-fd1ebd11f279",
   "metadata": {},
   "outputs": [
    {
     "name": "stdout",
     "output_type": "stream",
     "text": [
      "      name                      email  year  month  day\n",
      "0     Test             test@email.com  1961     12   21\n",
      "1  Arunesh  aruneshkumar324@gmail.com  1999      7   15\n",
      "2    Sohan            sohan@gmail.com  1992      9   12\n",
      "3    Pohan            pohan@gmail.com  2022      1   20\n",
      "4    Rohan            rohan@gmail.com  2022      1   20\n"
     ]
    }
   ],
   "source": [
    "print(data)"
   ]
  },
  {
   "cell_type": "code",
   "execution_count": 9,
   "id": "dfa74638-69eb-4b2a-909d-68c7a992a43f",
   "metadata": {},
   "outputs": [
    {
     "data": {
      "text/html": [
       "<div>\n",
       "<style scoped>\n",
       "    .dataframe tbody tr th:only-of-type {\n",
       "        vertical-align: middle;\n",
       "    }\n",
       "\n",
       "    .dataframe tbody tr th {\n",
       "        vertical-align: top;\n",
       "    }\n",
       "\n",
       "    .dataframe thead th {\n",
       "        text-align: right;\n",
       "    }\n",
       "</style>\n",
       "<table border=\"1\" class=\"dataframe\">\n",
       "  <thead>\n",
       "    <tr style=\"text-align: right;\">\n",
       "      <th></th>\n",
       "      <th>name</th>\n",
       "      <th>email</th>\n",
       "      <th>year</th>\n",
       "      <th>month</th>\n",
       "      <th>day</th>\n",
       "    </tr>\n",
       "  </thead>\n",
       "  <tbody>\n",
       "    <tr>\n",
       "      <th>3</th>\n",
       "      <td>Pohan</td>\n",
       "      <td>pohan@gmail.com</td>\n",
       "      <td>2022</td>\n",
       "      <td>1</td>\n",
       "      <td>20</td>\n",
       "    </tr>\n",
       "    <tr>\n",
       "      <th>4</th>\n",
       "      <td>Rohan</td>\n",
       "      <td>rohan@gmail.com</td>\n",
       "      <td>2022</td>\n",
       "      <td>1</td>\n",
       "      <td>20</td>\n",
       "    </tr>\n",
       "  </tbody>\n",
       "</table>\n",
       "</div>"
      ],
      "text/plain": [
       "    name            email  year  month  day\n",
       "3  Pohan  pohan@gmail.com  2022      1   20\n",
       "4  Rohan  rohan@gmail.com  2022      1   20"
      ]
     },
     "execution_count": 9,
     "metadata": {},
     "output_type": "execute_result"
    }
   ],
   "source": [
    "bod = data[data[\"day\"] == 20]\n",
    "bod"
   ]
  },
  {
   "cell_type": "code",
   "execution_count": 11,
   "id": "58471ffc-69ec-4687-a7f7-0c130b703a1b",
   "metadata": {},
   "outputs": [
    {
     "data": {
      "text/plain": [
       "{'name': {3: 'Pohan', 4: 'Rohan'},\n",
       " 'email': {3: 'pohan@gmail.com', 4: 'rohan@gmail.com'},\n",
       " 'year': {3: 2022, 4: 2022},\n",
       " 'month': {3: 1, 4: 1},\n",
       " 'day': {3: 20, 4: 20}}"
      ]
     },
     "execution_count": 11,
     "metadata": {},
     "output_type": "execute_result"
    }
   ],
   "source": [
    "bod.to_dict()"
   ]
  },
  {
   "cell_type": "code",
   "execution_count": 12,
   "id": "c3422ca5-853b-40d2-96c8-3b3d91654454",
   "metadata": {},
   "outputs": [
    {
     "data": {
      "text/plain": [
       "{'name': ['Pohan', 'Rohan'],\n",
       " 'email': ['pohan@gmail.com', 'rohan@gmail.com'],\n",
       " 'year': [2022, 2022],\n",
       " 'month': [1, 1],\n",
       " 'day': [20, 20]}"
      ]
     },
     "execution_count": 12,
     "metadata": {},
     "output_type": "execute_result"
    }
   ],
   "source": [
    "bod.to_dict(orient=\"list\")"
   ]
  },
  {
   "cell_type": "code",
   "execution_count": null,
   "id": "560f09d3-2cb4-4a1f-a49a-a5da20464725",
   "metadata": {},
   "outputs": [],
   "source": []
  }
 ],
 "metadata": {
  "kernelspec": {
   "display_name": "Python 3 (ipykernel)",
   "language": "python",
   "name": "python3"
  },
  "language_info": {
   "codemirror_mode": {
    "name": "ipython",
    "version": 3
   },
   "file_extension": ".py",
   "mimetype": "text/x-python",
   "name": "python",
   "nbconvert_exporter": "python",
   "pygments_lexer": "ipython3",
   "version": "3.9.7"
  }
 },
 "nbformat": 4,
 "nbformat_minor": 5
}
